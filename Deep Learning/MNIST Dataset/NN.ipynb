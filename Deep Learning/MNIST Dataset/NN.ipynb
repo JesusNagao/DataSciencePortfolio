{
 "cells": [
  {
   "cell_type": "code",
   "execution_count": 1,
   "metadata": {},
   "outputs": [],
   "source": [
    "import torch\n",
    "import torch.nn as nn\n",
    "import torch.optim as optim\n",
    "from torchvision import datasets, transforms"
   ]
  },
  {
   "cell_type": "code",
   "execution_count": 2,
   "metadata": {},
   "outputs": [],
   "source": [
    "# Define the network architecture\n",
    "class Net(nn.Module):\n",
    "    def __init__(self):\n",
    "        super(Net, self).__init__()\n",
    "        self.fc1 = nn.Linear(28 * 28, 128)\n",
    "        self.relu1 = nn.ReLU()\n",
    "        self.fc2 = nn.Linear(128, 64)\n",
    "        self.relu2 = nn.ReLU()\n",
    "        self.fc3 = nn.Linear(64, 10)\n",
    "\n",
    "    def forward(self, x):\n",
    "        x = x.view(-1, 28 * 28)\n",
    "        x = self.fc1(x)\n",
    "        x = self.relu1(x)\n",
    "        x = self.fc2(x)\n",
    "        x = self.relu2(x)\n",
    "        x = self.fc3(x)\n",
    "        return x"
   ]
  },
  {
   "cell_type": "code",
   "execution_count": 3,
   "metadata": {},
   "outputs": [
    {
     "name": "stdout",
     "output_type": "stream",
     "text": [
      "Downloading http://yann.lecun.com/exdb/mnist/train-images-idx3-ubyte.gz\n",
      "Downloading http://yann.lecun.com/exdb/mnist/train-images-idx3-ubyte.gz to data\\MNIST\\raw\\train-images-idx3-ubyte.gz\n"
     ]
    },
    {
     "name": "stderr",
     "output_type": "stream",
     "text": [
      "100%|██████████| 9912422/9912422 [00:02<00:00, 3965948.02it/s]\n"
     ]
    },
    {
     "name": "stdout",
     "output_type": "stream",
     "text": [
      "Extracting data\\MNIST\\raw\\train-images-idx3-ubyte.gz to data\\MNIST\\raw\n",
      "\n",
      "Downloading http://yann.lecun.com/exdb/mnist/train-labels-idx1-ubyte.gz\n",
      "Downloading http://yann.lecun.com/exdb/mnist/train-labels-idx1-ubyte.gz to data\\MNIST\\raw\\train-labels-idx1-ubyte.gz\n"
     ]
    },
    {
     "name": "stderr",
     "output_type": "stream",
     "text": [
      "100%|██████████| 28881/28881 [00:00<00:00, 28945207.60it/s]"
     ]
    },
    {
     "name": "stdout",
     "output_type": "stream",
     "text": [
      "Extracting data\\MNIST\\raw\\train-labels-idx1-ubyte.gz to data\\MNIST\\raw\n",
      "\n",
      "Downloading http://yann.lecun.com/exdb/mnist/t10k-images-idx3-ubyte.gz\n"
     ]
    },
    {
     "name": "stderr",
     "output_type": "stream",
     "text": [
      "\n"
     ]
    },
    {
     "name": "stdout",
     "output_type": "stream",
     "text": [
      "Downloading http://yann.lecun.com/exdb/mnist/t10k-images-idx3-ubyte.gz to data\\MNIST\\raw\\t10k-images-idx3-ubyte.gz\n"
     ]
    },
    {
     "name": "stderr",
     "output_type": "stream",
     "text": [
      "100%|██████████| 1648877/1648877 [00:00<00:00, 3800573.06it/s]\n"
     ]
    },
    {
     "name": "stdout",
     "output_type": "stream",
     "text": [
      "Extracting data\\MNIST\\raw\\t10k-images-idx3-ubyte.gz to data\\MNIST\\raw\n",
      "\n",
      "Downloading http://yann.lecun.com/exdb/mnist/t10k-labels-idx1-ubyte.gz\n",
      "Downloading http://yann.lecun.com/exdb/mnist/t10k-labels-idx1-ubyte.gz to data\\MNIST\\raw\\t10k-labels-idx1-ubyte.gz\n"
     ]
    },
    {
     "name": "stderr",
     "output_type": "stream",
     "text": [
      "100%|██████████| 4542/4542 [00:00<?, ?it/s]\n"
     ]
    },
    {
     "name": "stdout",
     "output_type": "stream",
     "text": [
      "Extracting data\\MNIST\\raw\\t10k-labels-idx1-ubyte.gz to data\\MNIST\\raw\n",
      "\n"
     ]
    }
   ],
   "source": [
    "transform = transforms.Compose([transforms.ToTensor(), transforms.Normalize((0.1307,), (0.3081,))])\n",
    "train_dataset = datasets.MNIST('data', train=True, download=True, transform=transform)\n",
    "train_loader = torch.utils.data.DataLoader(train_dataset, batch_size=64, shuffle=True)"
   ]
  },
  {
   "cell_type": "code",
   "execution_count": 4,
   "metadata": {},
   "outputs": [],
   "source": [
    "# Instantiate the network, loss function, and optimizer\n",
    "net = Net()\n",
    "loss_fn = nn.CrossEntropyLoss()\n",
    "optimizer = optim.SGD(net.parameters(), lr=0.01)"
   ]
  },
  {
   "cell_type": "code",
   "execution_count": 5,
   "metadata": {},
   "outputs": [
    {
     "name": "stdout",
     "output_type": "stream",
     "text": [
      "Epoch [1/10], Step [100/938], Loss: 1.9819\n",
      "Epoch [1/10], Step [200/938], Loss: 1.1347\n",
      "Epoch [1/10], Step [300/938], Loss: 0.7382\n",
      "Epoch [1/10], Step [400/938], Loss: 0.7385\n",
      "Epoch [1/10], Step [500/938], Loss: 0.4033\n",
      "Epoch [1/10], Step [600/938], Loss: 0.3145\n",
      "Epoch [1/10], Step [700/938], Loss: 0.3564\n",
      "Epoch [1/10], Step [800/938], Loss: 0.4544\n",
      "Epoch [1/10], Step [900/938], Loss: 0.5685\n",
      "Epoch [2/10], Step [100/938], Loss: 0.4332\n",
      "Epoch [2/10], Step [200/938], Loss: 0.2479\n",
      "Epoch [2/10], Step [300/938], Loss: 0.4306\n",
      "Epoch [2/10], Step [400/938], Loss: 0.1597\n",
      "Epoch [2/10], Step [500/938], Loss: 0.1776\n",
      "Epoch [2/10], Step [600/938], Loss: 0.1895\n",
      "Epoch [2/10], Step [700/938], Loss: 0.3298\n",
      "Epoch [2/10], Step [800/938], Loss: 0.3125\n",
      "Epoch [2/10], Step [900/938], Loss: 0.2359\n",
      "Epoch [3/10], Step [100/938], Loss: 0.2123\n",
      "Epoch [3/10], Step [200/938], Loss: 0.2613\n",
      "Epoch [3/10], Step [300/938], Loss: 0.2635\n",
      "Epoch [3/10], Step [400/938], Loss: 0.4048\n",
      "Epoch [3/10], Step [500/938], Loss: 0.3708\n",
      "Epoch [3/10], Step [600/938], Loss: 0.2447\n",
      "Epoch [3/10], Step [700/938], Loss: 0.1538\n",
      "Epoch [3/10], Step [800/938], Loss: 0.2396\n",
      "Epoch [3/10], Step [900/938], Loss: 0.2309\n",
      "Epoch [4/10], Step [100/938], Loss: 0.3497\n",
      "Epoch [4/10], Step [200/938], Loss: 0.2795\n",
      "Epoch [4/10], Step [300/938], Loss: 0.1635\n",
      "Epoch [4/10], Step [400/938], Loss: 0.2983\n",
      "Epoch [4/10], Step [500/938], Loss: 0.2551\n",
      "Epoch [4/10], Step [600/938], Loss: 0.1630\n",
      "Epoch [4/10], Step [700/938], Loss: 0.4049\n",
      "Epoch [4/10], Step [800/938], Loss: 0.1835\n",
      "Epoch [4/10], Step [900/938], Loss: 0.2701\n",
      "Epoch [5/10], Step [100/938], Loss: 0.1167\n",
      "Epoch [5/10], Step [200/938], Loss: 0.0716\n",
      "Epoch [5/10], Step [300/938], Loss: 0.2244\n",
      "Epoch [5/10], Step [400/938], Loss: 0.1416\n",
      "Epoch [5/10], Step [500/938], Loss: 0.1231\n",
      "Epoch [5/10], Step [600/938], Loss: 0.0703\n",
      "Epoch [5/10], Step [700/938], Loss: 0.2336\n",
      "Epoch [5/10], Step [800/938], Loss: 0.2268\n",
      "Epoch [5/10], Step [900/938], Loss: 0.1847\n",
      "Epoch [6/10], Step [100/938], Loss: 0.3280\n",
      "Epoch [6/10], Step [200/938], Loss: 0.3092\n",
      "Epoch [6/10], Step [300/938], Loss: 0.1927\n",
      "Epoch [6/10], Step [400/938], Loss: 0.1005\n",
      "Epoch [6/10], Step [500/938], Loss: 0.3180\n",
      "Epoch [6/10], Step [600/938], Loss: 0.2683\n",
      "Epoch [6/10], Step [700/938], Loss: 0.2346\n",
      "Epoch [6/10], Step [800/938], Loss: 0.1860\n",
      "Epoch [6/10], Step [900/938], Loss: 0.1655\n",
      "Epoch [7/10], Step [100/938], Loss: 0.0944\n",
      "Epoch [7/10], Step [200/938], Loss: 0.1143\n",
      "Epoch [7/10], Step [300/938], Loss: 0.1590\n",
      "Epoch [7/10], Step [400/938], Loss: 0.1354\n",
      "Epoch [7/10], Step [500/938], Loss: 0.1699\n",
      "Epoch [7/10], Step [600/938], Loss: 0.1688\n",
      "Epoch [7/10], Step [700/938], Loss: 0.1257\n",
      "Epoch [7/10], Step [800/938], Loss: 0.0811\n",
      "Epoch [7/10], Step [900/938], Loss: 0.1197\n",
      "Epoch [8/10], Step [100/938], Loss: 0.1813\n",
      "Epoch [8/10], Step [200/938], Loss: 0.0560\n",
      "Epoch [8/10], Step [300/938], Loss: 0.0820\n",
      "Epoch [8/10], Step [400/938], Loss: 0.1590\n",
      "Epoch [8/10], Step [500/938], Loss: 0.1411\n",
      "Epoch [8/10], Step [600/938], Loss: 0.1411\n",
      "Epoch [8/10], Step [700/938], Loss: 0.0730\n",
      "Epoch [8/10], Step [800/938], Loss: 0.2822\n",
      "Epoch [8/10], Step [900/938], Loss: 0.0398\n",
      "Epoch [9/10], Step [100/938], Loss: 0.1010\n",
      "Epoch [9/10], Step [200/938], Loss: 0.0616\n",
      "Epoch [9/10], Step [300/938], Loss: 0.1712\n",
      "Epoch [9/10], Step [400/938], Loss: 0.0845\n",
      "Epoch [9/10], Step [500/938], Loss: 0.1210\n",
      "Epoch [9/10], Step [600/938], Loss: 0.1301\n",
      "Epoch [9/10], Step [700/938], Loss: 0.0596\n",
      "Epoch [9/10], Step [800/938], Loss: 0.2487\n",
      "Epoch [9/10], Step [900/938], Loss: 0.1231\n",
      "Epoch [10/10], Step [100/938], Loss: 0.1198\n",
      "Epoch [10/10], Step [200/938], Loss: 0.0734\n",
      "Epoch [10/10], Step [300/938], Loss: 0.1423\n",
      "Epoch [10/10], Step [400/938], Loss: 0.2006\n",
      "Epoch [10/10], Step [500/938], Loss: 0.0742\n",
      "Epoch [10/10], Step [600/938], Loss: 0.1294\n",
      "Epoch [10/10], Step [700/938], Loss: 0.0556\n",
      "Epoch [10/10], Step [800/938], Loss: 0.0914\n",
      "Epoch [10/10], Step [900/938], Loss: 0.1181\n"
     ]
    }
   ],
   "source": [
    "# Train the network\n",
    "num_epochs = 10\n",
    "for epoch in range(num_epochs):\n",
    "    for i, (inputs, labels) in enumerate(train_loader):\n",
    "        # Zero the gradients\n",
    "        optimizer.zero_grad()\n",
    "\n",
    "        # Forward pass\n",
    "        outputs = net(inputs)\n",
    "        loss = loss_fn(outputs, labels)\n",
    "\n",
    "        # Backward pass\n",
    "        loss.backward()\n",
    "\n",
    "        # Update the parameters\n",
    "        optimizer.step()\n",
    "\n",
    "        # Print loss information\n",
    "        if (i+1) % 100 == 0:\n",
    "            print('Epoch [{}/{}], Step [{}/{}], Loss: {:.4f}'.format(epoch+1, num_epochs, i+1, len(train_loader), loss.item()))"
   ]
  },
  {
   "cell_type": "code",
   "execution_count": 8,
   "metadata": {},
   "outputs": [
    {
     "name": "stdout",
     "output_type": "stream",
     "text": [
      "Accuracy of the network on the test images: 96.34 %\n"
     ]
    }
   ],
   "source": [
    "# Load the test dataset\n",
    "test_dataset = datasets.MNIST('data', train=False, download=True, transform=transform)\n",
    "test_loader = torch.utils.data.DataLoader(test_dataset, batch_size=64, shuffle=False)\n",
    "\n",
    "\n",
    "# Evaluate the model on the test dataset\n",
    "correct = 0\n",
    "total = 0\n",
    "with torch.no_grad():\n",
    "    for inputs, labels in test_loader:\n",
    "        outputs = net(inputs)\n",
    "        _, predicted = torch.max(outputs.data, 1)\n",
    "        total += labels.size(0)\n",
    "        correct += (predicted == labels).sum().item()\n",
    "\n",
    "print('Accuracy of the network on the test images: {} %'.format(100 * correct / total))"
   ]
  }
 ],
 "metadata": {
  "kernelspec": {
   "display_name": "Python 3",
   "language": "python",
   "name": "python3"
  },
  "language_info": {
   "codemirror_mode": {
    "name": "ipython",
    "version": 3
   },
   "file_extension": ".py",
   "mimetype": "text/x-python",
   "name": "python",
   "nbconvert_exporter": "python",
   "pygments_lexer": "ipython3",
   "version": "3.8.8"
  },
  "orig_nbformat": 4
 },
 "nbformat": 4,
 "nbformat_minor": 2
}
